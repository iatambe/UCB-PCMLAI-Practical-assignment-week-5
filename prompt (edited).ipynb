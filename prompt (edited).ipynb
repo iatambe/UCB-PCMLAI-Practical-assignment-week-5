{
 "cells": [
  {
   "cell_type": "markdown",
   "metadata": {
    "id": "CcUT6Fon_qRE"
   },
   "source": [
    "### Required Assignment 5.1: Will the Customer Accept the Coupon?\n",
    "\n",
    "**Context**\n",
    "\n",
    "Imagine driving through town and a coupon is delivered to your cell phone for a restaurant near where you are driving. Would you accept that coupon and take a short detour to the restaurant? Would you accept the coupon but use it on a subsequent trip? Would you ignore the coupon entirely? What if the coupon was for a bar instead of a restaurant? What about a coffee house? Would you accept a bar coupon with a minor passenger in the car? What about if it was just you and your partner in the car? Would weather impact the rate of acceptance? What about the time of day?\n",
    "\n",
    "Obviously, proximity to the business is a factor on whether the coupon is delivered to the driver or not, but what are the factors that determine whether a driver accepts the coupon once it is delivered to them? How would you determine whether a driver is likely to accept a coupon?\n",
    "\n",
    "**Overview**\n",
    "\n",
    "The goal of this project is to use what you know about visualizations and probability distributions to distinguish between customers who accepted a driving coupon versus those that did not.\n",
    "\n",
    "**Data**\n",
    "\n",
    "This data comes to us from the UCI Machine Learning repository and was collected via a survey on Amazon Mechanical Turk. The survey describes different driving scenarios including the destination, current time, weather, passenger, etc., and then ask the person whether he will accept the coupon if he is the driver. Answers that the user will drive there ‘right away’ or ‘later before the coupon expires’ are labeled as ‘Y = 1’ and answers ‘no, I do not want the coupon’ are labeled as ‘Y = 0’.  There are five different types of coupons -- less expensive restaurants (under \\$20), coffee houses, carry out & take away, bar, and more expensive restaurants (\\$20 - $50)."
   ]
  },
  {
   "cell_type": "markdown",
   "metadata": {
    "id": "1wORvMBJ_qRF"
   },
   "source": [
    "**Deliverables**\n",
    "\n",
    "Your final product should be a brief report that highlights the differences between customers who did and did not accept the coupons.  To explore the data you will utilize your knowledge of plotting, statistical summaries, and visualization using Python. You will publish your findings in a public facing github repository as your first portfolio piece.\n",
    "\n",
    "\n",
    "\n"
   ]
  },
  {
   "cell_type": "markdown",
   "metadata": {
    "id": "pG6_Ym6q_qRG"
   },
   "source": [
    "### Data Description\n",
    "Keep in mind that these values mentioned below are average values.\n",
    "\n",
    "The attributes of this data set include:\n",
    "1. User attributes\n",
    "    -  Gender: male, female\n",
    "    -  Age: below 21, 21 to 25, 26 to 30, etc.\n",
    "    -  Marital Status: single, married partner, unmarried partner, or widowed\n",
    "    -  Number of children: 0, 1, or more than 1\n",
    "    -  Education: high school, bachelors degree, associates degree, or graduate degree\n",
    "    -  Occupation: architecture & engineering, business & financial, etc.\n",
    "    -  Annual income: less than \\\\$12500, \\\\$12500 - \\\\$24999, \\\\$25000 - \\\\$37499, etc.\n",
    "    -  Number of times that he/she goes to a bar: 0, less than 1, 1 to 3, 4 to 8 or greater than 8\n",
    "    -  Number of times that he/she buys takeaway food: 0, less than 1, 1 to 3, 4 to 8 or greater\n",
    "    than 8\n",
    "    -  Number of times that he/she goes to a coffee house: 0, less than 1, 1 to 3, 4 to 8 or\n",
    "    greater than 8\n",
    "    -  Number of times that he/she eats at a restaurant with average expense less than \\\\$20 per\n",
    "    person: 0, less than 1, 1 to 3, 4 to 8 or greater than 8\n",
    "    -  Number of times that he/she goes to a bar: 0, less than 1, 1 to 3, 4 to 8 or greater than 8\n",
    "    \n",
    "\n",
    "2. Contextual attributes\n",
    "    - Driving destination: home, work, or no urgent destination\n",
    "    - Location of user, coupon and destination: we provide a map to show the geographical\n",
    "    location of the user, destination, and the venue, and we mark the distance between each\n",
    "    two places with time of driving. The user can see whether the venue is in the same\n",
    "    direction as the destination.\n",
    "    - Weather: sunny, rainy, or snowy\n",
    "    - Temperature: 30F, 55F, or 80F\n",
    "    - Time: 10AM, 2PM, or 6PM\n",
    "    - Passenger: alone, partner, kid(s), or friend(s)\n",
    "\n",
    "\n",
    "3. Coupon attributes\n",
    "    - time before it expires: 2 hours or one day"
   ]
  },
  {
   "cell_type": "code",
   "execution_count": 1,
   "metadata": {
    "id": "dzNoP3o__qRG"
   },
   "outputs": [],
   "source": [
    "import matplotlib.pyplot as plt\n",
    "import seaborn as sns\n",
    "import pandas as pd\n",
    "import numpy as np"
   ]
  },
  {
   "cell_type": "markdown",
   "metadata": {
    "id": "Ct8pI1uE_qRG"
   },
   "source": [
    "### Problems\n",
    "\n",
    "Use the prompts below to get started with your data analysis.  \n",
    "\n",
    "1. Read in the `coupons.csv` file.\n",
    "\n",
    "\n"
   ]
  },
  {
   "cell_type": "code",
   "execution_count": 2,
   "metadata": {
    "id": "X0vbffYg_qRH"
   },
   "outputs": [],
   "source": [
    "data = pd.read_csv('data/coupons.csv')"
   ]
  },
  {
   "cell_type": "code",
   "execution_count": 3,
   "metadata": {
    "id": "TXofQ_DF_qRH",
    "outputId": "2fc96a2c-1112-4b54-f24f-dbb9bc88abfb"
   },
   "outputs": [
    {
     "data": {
      "text/html": [
       "<div>\n",
       "<style scoped>\n",
       "    .dataframe tbody tr th:only-of-type {\n",
       "        vertical-align: middle;\n",
       "    }\n",
       "\n",
       "    .dataframe tbody tr th {\n",
       "        vertical-align: top;\n",
       "    }\n",
       "\n",
       "    .dataframe thead th {\n",
       "        text-align: right;\n",
       "    }\n",
       "</style>\n",
       "<table border=\"1\" class=\"dataframe\">\n",
       "  <thead>\n",
       "    <tr style=\"text-align: right;\">\n",
       "      <th></th>\n",
       "      <th>destination</th>\n",
       "      <th>passenger</th>\n",
       "      <th>weather</th>\n",
       "      <th>temperature</th>\n",
       "      <th>time</th>\n",
       "      <th>coupon</th>\n",
       "      <th>expiration</th>\n",
       "      <th>gender</th>\n",
       "      <th>age</th>\n",
       "      <th>maritalStatus</th>\n",
       "      <th>...</th>\n",
       "      <th>CoffeeHouse</th>\n",
       "      <th>CarryAway</th>\n",
       "      <th>RestaurantLessThan20</th>\n",
       "      <th>Restaurant20To50</th>\n",
       "      <th>toCoupon_GEQ5min</th>\n",
       "      <th>toCoupon_GEQ15min</th>\n",
       "      <th>toCoupon_GEQ25min</th>\n",
       "      <th>direction_same</th>\n",
       "      <th>direction_opp</th>\n",
       "      <th>Y</th>\n",
       "    </tr>\n",
       "  </thead>\n",
       "  <tbody>\n",
       "    <tr>\n",
       "      <th>0</th>\n",
       "      <td>No Urgent Place</td>\n",
       "      <td>Alone</td>\n",
       "      <td>Sunny</td>\n",
       "      <td>55</td>\n",
       "      <td>2PM</td>\n",
       "      <td>Restaurant(&lt;20)</td>\n",
       "      <td>1d</td>\n",
       "      <td>Female</td>\n",
       "      <td>21</td>\n",
       "      <td>Unmarried partner</td>\n",
       "      <td>...</td>\n",
       "      <td>never</td>\n",
       "      <td>NaN</td>\n",
       "      <td>4~8</td>\n",
       "      <td>1~3</td>\n",
       "      <td>1</td>\n",
       "      <td>0</td>\n",
       "      <td>0</td>\n",
       "      <td>0</td>\n",
       "      <td>1</td>\n",
       "      <td>1</td>\n",
       "    </tr>\n",
       "    <tr>\n",
       "      <th>1</th>\n",
       "      <td>No Urgent Place</td>\n",
       "      <td>Friend(s)</td>\n",
       "      <td>Sunny</td>\n",
       "      <td>80</td>\n",
       "      <td>10AM</td>\n",
       "      <td>Coffee House</td>\n",
       "      <td>2h</td>\n",
       "      <td>Female</td>\n",
       "      <td>21</td>\n",
       "      <td>Unmarried partner</td>\n",
       "      <td>...</td>\n",
       "      <td>never</td>\n",
       "      <td>NaN</td>\n",
       "      <td>4~8</td>\n",
       "      <td>1~3</td>\n",
       "      <td>1</td>\n",
       "      <td>0</td>\n",
       "      <td>0</td>\n",
       "      <td>0</td>\n",
       "      <td>1</td>\n",
       "      <td>0</td>\n",
       "    </tr>\n",
       "    <tr>\n",
       "      <th>2</th>\n",
       "      <td>No Urgent Place</td>\n",
       "      <td>Friend(s)</td>\n",
       "      <td>Sunny</td>\n",
       "      <td>80</td>\n",
       "      <td>10AM</td>\n",
       "      <td>Carry out &amp; Take away</td>\n",
       "      <td>2h</td>\n",
       "      <td>Female</td>\n",
       "      <td>21</td>\n",
       "      <td>Unmarried partner</td>\n",
       "      <td>...</td>\n",
       "      <td>never</td>\n",
       "      <td>NaN</td>\n",
       "      <td>4~8</td>\n",
       "      <td>1~3</td>\n",
       "      <td>1</td>\n",
       "      <td>1</td>\n",
       "      <td>0</td>\n",
       "      <td>0</td>\n",
       "      <td>1</td>\n",
       "      <td>1</td>\n",
       "    </tr>\n",
       "    <tr>\n",
       "      <th>3</th>\n",
       "      <td>No Urgent Place</td>\n",
       "      <td>Friend(s)</td>\n",
       "      <td>Sunny</td>\n",
       "      <td>80</td>\n",
       "      <td>2PM</td>\n",
       "      <td>Coffee House</td>\n",
       "      <td>2h</td>\n",
       "      <td>Female</td>\n",
       "      <td>21</td>\n",
       "      <td>Unmarried partner</td>\n",
       "      <td>...</td>\n",
       "      <td>never</td>\n",
       "      <td>NaN</td>\n",
       "      <td>4~8</td>\n",
       "      <td>1~3</td>\n",
       "      <td>1</td>\n",
       "      <td>1</td>\n",
       "      <td>0</td>\n",
       "      <td>0</td>\n",
       "      <td>1</td>\n",
       "      <td>0</td>\n",
       "    </tr>\n",
       "    <tr>\n",
       "      <th>4</th>\n",
       "      <td>No Urgent Place</td>\n",
       "      <td>Friend(s)</td>\n",
       "      <td>Sunny</td>\n",
       "      <td>80</td>\n",
       "      <td>2PM</td>\n",
       "      <td>Coffee House</td>\n",
       "      <td>1d</td>\n",
       "      <td>Female</td>\n",
       "      <td>21</td>\n",
       "      <td>Unmarried partner</td>\n",
       "      <td>...</td>\n",
       "      <td>never</td>\n",
       "      <td>NaN</td>\n",
       "      <td>4~8</td>\n",
       "      <td>1~3</td>\n",
       "      <td>1</td>\n",
       "      <td>1</td>\n",
       "      <td>0</td>\n",
       "      <td>0</td>\n",
       "      <td>1</td>\n",
       "      <td>0</td>\n",
       "    </tr>\n",
       "  </tbody>\n",
       "</table>\n",
       "<p>5 rows × 26 columns</p>\n",
       "</div>"
      ],
      "text/plain": [
       "       destination  passenger weather  temperature  time  \\\n",
       "0  No Urgent Place      Alone   Sunny           55   2PM   \n",
       "1  No Urgent Place  Friend(s)   Sunny           80  10AM   \n",
       "2  No Urgent Place  Friend(s)   Sunny           80  10AM   \n",
       "3  No Urgent Place  Friend(s)   Sunny           80   2PM   \n",
       "4  No Urgent Place  Friend(s)   Sunny           80   2PM   \n",
       "\n",
       "                  coupon expiration  gender age      maritalStatus  ...  \\\n",
       "0        Restaurant(<20)         1d  Female  21  Unmarried partner  ...   \n",
       "1           Coffee House         2h  Female  21  Unmarried partner  ...   \n",
       "2  Carry out & Take away         2h  Female  21  Unmarried partner  ...   \n",
       "3           Coffee House         2h  Female  21  Unmarried partner  ...   \n",
       "4           Coffee House         1d  Female  21  Unmarried partner  ...   \n",
       "\n",
       "   CoffeeHouse CarryAway RestaurantLessThan20 Restaurant20To50  \\\n",
       "0        never       NaN                  4~8              1~3   \n",
       "1        never       NaN                  4~8              1~3   \n",
       "2        never       NaN                  4~8              1~3   \n",
       "3        never       NaN                  4~8              1~3   \n",
       "4        never       NaN                  4~8              1~3   \n",
       "\n",
       "  toCoupon_GEQ5min toCoupon_GEQ15min toCoupon_GEQ25min direction_same  \\\n",
       "0                1                 0                 0              0   \n",
       "1                1                 0                 0              0   \n",
       "2                1                 1                 0              0   \n",
       "3                1                 1                 0              0   \n",
       "4                1                 1                 0              0   \n",
       "\n",
       "  direction_opp  Y  \n",
       "0             1  1  \n",
       "1             1  0  \n",
       "2             1  1  \n",
       "3             1  0  \n",
       "4             1  0  \n",
       "\n",
       "[5 rows x 26 columns]"
      ]
     },
     "execution_count": 3,
     "metadata": {},
     "output_type": "execute_result"
    }
   ],
   "source": [
    "data = data.rename(columns={'passanger':'passenger'}) # added by me\n",
    "\n",
    "data.head()"
   ]
  },
  {
   "cell_type": "markdown",
   "metadata": {
    "id": "GcDs78ZH_qRH"
   },
   "source": [
    "2. Investigate the dataset for missing or problematic data."
   ]
  },
  {
   "cell_type": "code",
   "execution_count": 4,
   "metadata": {
    "id": "6CwL6oWj_qRH"
   },
   "outputs": [
    {
     "name": "stdout",
     "output_type": "stream",
     "text": [
      "destination                 0\n",
      "passenger                   0\n",
      "weather                     0\n",
      "temperature                 0\n",
      "time                        0\n",
      "coupon                      0\n",
      "expiration                  0\n",
      "gender                      0\n",
      "age                         0\n",
      "maritalStatus               0\n",
      "has_children                0\n",
      "education                   0\n",
      "occupation                  0\n",
      "income                      0\n",
      "car                     12576\n",
      "Bar                       107\n",
      "CoffeeHouse               217\n",
      "CarryAway                 151\n",
      "RestaurantLessThan20      130\n",
      "Restaurant20To50          189\n",
      "toCoupon_GEQ5min            0\n",
      "toCoupon_GEQ15min           0\n",
      "toCoupon_GEQ25min           0\n",
      "direction_same              0\n",
      "direction_opp               0\n",
      "Y                           0\n",
      "dtype: int64\n"
     ]
    }
   ],
   "source": [
    "null_num = data.isnull().sum()\n",
    "print(null_num)"
   ]
  },
  {
   "cell_type": "markdown",
   "metadata": {
    "id": "bSdVSpYB_qRH"
   },
   "source": [
    "3. Decide what to do about your missing data -- drop, replace, other..."
   ]
  },
  {
   "cell_type": "code",
   "execution_count": 5,
   "metadata": {
    "id": "tyvoAC5F_qRI"
   },
   "outputs": [
    {
     "name": "stdout",
     "output_type": "stream",
     "text": [
      "Percentage of rows having a missing value in a non-'car' column: 4.769788710186061%\n",
      "Have now dropped rows having a missing value in a non-'car' column\n"
     ]
    }
   ],
   "source": [
    "# We will not use the \"car\" column in our analysis, so we will ignore this column.\n",
    "\n",
    "# Let us see how many rows have a missing value in a non-car column:\n",
    "col_list = data.columns.tolist()\n",
    "col_list.remove('car')\n",
    "mask = ( data[col_list[0]].isna() )\n",
    "for c in col_list[1:]:  \n",
    "    mask = mask | ( data[c].isna() )\n",
    "num_na_rows = len(data[mask])\n",
    "num_rows = len(data)\n",
    "\n",
    "print(f\"Percentage of rows having a missing value in a non-'car' column: {100.*num_na_rows/num_rows}%\")\n",
    "# ^ Output says <5% of rows have a missing value in a non-'car' column.\n",
    "# This is not much, so we will just drop these rows.\n",
    "\n",
    "# Drop all rows with a missing value in a non-'car' column\n",
    "data = data.dropna(subset = col_list) \n",
    "print(\"Have now dropped rows having a missing value in a non-'car' column\")\n",
    "\n",
    "\n"
   ]
  },
  {
   "cell_type": "markdown",
   "metadata": {
    "id": "YE6oJbXd_qRI"
   },
   "source": [
    "4. What proportion of the total observations chose to accept the coupon?\n",
    "\n"
   ]
  },
  {
   "cell_type": "code",
   "execution_count": 6,
   "metadata": {
    "id": "86GGqBTv_qRI"
   },
   "outputs": [
    {
     "name": "stdout",
     "output_type": "stream",
     "text": [
      "About 56.93352098683666% of the total observations accepted the coupon.\n"
     ]
    }
   ],
   "source": [
    "num_accept = data[ data['Y']==1 ]['Y'].sum()\n",
    "num_total =  len(data)\n",
    "proportion_accept = num_accept / num_total\n",
    "\n",
    "print(f\"About {100.*proportion_accept}% of the total observations accepted the coupon.\")"
   ]
  },
  {
   "cell_type": "markdown",
   "metadata": {
    "id": "vflz0DoE_qRI"
   },
   "source": [
    "5. Use a bar plot to visualize the `coupon` column."
   ]
  },
  {
   "cell_type": "code",
   "execution_count": 7,
   "metadata": {
    "id": "dHFh3E45_qRI"
   },
   "outputs": [
    {
     "data": {
      "image/png": "[encoded data removed]",
      "text/plain": [
       "<Figure size 640x480 with 1 Axes>"
      ]
     },
     "metadata": {},
     "output_type": "display_data"
    }
   ],
   "source": [
    "coupon_type_nums = data.groupby('coupon').size() \\\n",
    "    .reset_index(name='num') # to set to 'num' the name of the column counting the num\n",
    "coupon_type_barplot = sns.barplot(y='coupon', x='num', data=coupon_type_nums)\n",
    "plt.title('Number of offered coupons of each type')\n",
    "coupon_type_barplot.set_xlabel('Number of coupons offered')\n",
    "coupon_type_barplot.set_ylabel('Coupon type')\n",
    "plt.savefig('Plots/NumberOfOfferedCouponsOfEachType.png')\n",
    "plt.show()"
   ]
  },
  {
   "cell_type": "markdown",
   "metadata": {
    "id": "Qw4lCyx2_qRI"
   },
   "source": [
    "6. Use a histogram to visualize the temperature column."
   ]
  },
  {
   "cell_type": "code",
   "execution_count": 8,
   "metadata": {
    "id": "Yg9Anv71_qRI"
   },
   "outputs": [
    {
     "data": {
      "image/png": "[encoded data removed]",
      "text/plain": [
       "<Figure size 640x480 with 1 Axes>"
      ]
     },
     "metadata": {},
     "output_type": "display_data"
    }
   ],
   "source": [
    "temperature_hplot = sns.histplot(x='temperature', data=data)\n",
    "plt.title('Histogram of temperature outside when coupons were offered')\n",
    "temperature_hplot.set_xlabel('Temperature')\n",
    "temperature_hplot.set_ylabel('Frequency')\n",
    "plt.savefig('Plots/TemperatureHistogram.png')"
   ]
  },
  {
   "cell_type": "code",
   "execution_count": null,
   "metadata": {
    "id": "zLtOaJQk_qRI"
   },
   "outputs": [],
   "source": []
  },
  {
   "cell_type": "code",
   "execution_count": null,
   "metadata": {
    "id": "7GBHZKBp_qRJ"
   },
   "outputs": [],
   "source": []
  },
  {
   "cell_type": "code",
   "execution_count": null,
   "metadata": {
    "id": "Y5nBUA-j_qRJ"
   },
   "outputs": [],
   "source": []
  },
  {
   "cell_type": "code",
   "execution_count": null,
   "metadata": {
    "id": "ShcUC-Vm_qRJ"
   },
   "outputs": [],
   "source": []
  },
  {
   "cell_type": "markdown",
   "metadata": {
    "id": "FupfgeJk_qRJ"
   },
   "source": [
    "**Investigating the Bar Coupons**\n",
    "\n",
    "Now, we will lead you through an exploration of just the bar related coupons.  \n",
    "\n",
    "1. Create a new `DataFrame` that contains just the bar coupons.\n"
   ]
  },
  {
   "cell_type": "code",
   "execution_count": 9,
   "metadata": {
    "id": "tMBlWuGq_qRJ"
   },
   "outputs": [],
   "source": [
    "data_justbar = data[ data['coupon'] == 'Bar' ]"
   ]
  },
  {
   "cell_type": "markdown",
   "metadata": {
    "id": "8ue6uCqf_qRJ"
   },
   "source": [
    "2. What proportion of bar coupons were accepted?\n"
   ]
  },
  {
   "cell_type": "code",
   "execution_count": 10,
   "metadata": {
    "id": "hSdte8Mi_qRK"
   },
   "outputs": [
    {
     "name": "stdout",
     "output_type": "stream",
     "text": [
      "About 41.19184526921067% of the bar coupons were accepted.\n"
     ]
    }
   ],
   "source": [
    "num_baraccept = len( data_justbar[ data_justbar['Y']==1 ] )\n",
    "proportion_baraccept = num_baraccept / len( data_justbar )\n",
    "\n",
    "print(f\"About {100.*proportion_baraccept}% of the bar coupons were accepted.\")"
   ]
  },
  {
   "cell_type": "markdown",
   "metadata": {
    "id": "85nA_iEi_qRK"
   },
   "source": [
    "3. Compare the acceptance rate between those who went to a bar 3 or fewer times a month to those who went more.\n"
   ]
  },
  {
   "cell_type": "code",
   "execution_count": 11,
   "metadata": {
    "id": "LBOrN-XM_qRK"
   },
   "outputs": [
    {
     "name": "stdout",
     "output_type": "stream",
     "text": [
      "Among those who went to bars 3 or fewer times a month, 37.26744186046512% of the bar coupons were accepted.\n",
      "Among those who went to bars more than 3 times a month, 76.16580310880829% of the bar coupons were accepted.\n"
     ]
    }
   ],
   "source": [
    "indicates_3fewer = ['never', 'less1', '1~3']\n",
    "indicates_4ormore = ['gt8', '4~8']\n",
    "num_3fewer = len( data_justbar[ data_justbar['Bar'].isin(indicates_3fewer) ] )\n",
    "num_3fewer_accept = len( data_justbar[ (data_justbar['Y']==1) & (data_justbar['Bar'].isin(indicates_3fewer)) ] )\n",
    "num_4ormore = len( data_justbar[ data_justbar['Bar'].isin(indicates_4ormore) ] )\n",
    "num_4ormore_accept = len( data_justbar[ (data_justbar['Y']==1) & (data_justbar['Bar'].isin(indicates_4ormore)) ] )\n",
    "proportion_accept_among_3fewer = num_3fewer_accept / num_3fewer\n",
    "proportion_accept_among_4ormore = num_4ormore_accept / num_4ormore\n",
    "\n",
    "print(f\"Among those who went to bars 3 or fewer times a month, {100.*proportion_accept_among_3fewer}% of the bar coupons were accepted.\")\n",
    "print(f\"Among those who went to bars more than 3 times a month, {100.*proportion_accept_among_4ormore}% of the bar coupons were accepted.\")"
   ]
  },
  {
   "cell_type": "markdown",
   "metadata": {
    "id": "RBgcQwH4_qRK"
   },
   "source": [
    "4. Compare the acceptance rate between drivers who go to a bar more than once a month and are over the age of 25 to the all others.  Is there a difference?\n"
   ]
  },
  {
   "cell_type": "code",
   "execution_count": 12,
   "metadata": {
    "id": "bf28bbeX_qRK"
   },
   "outputs": [
    {
     "name": "stdout",
     "output_type": "stream",
     "text": [
      "Bar coupon acceptance rate among drivers who go to a bar more than once a month and are over the age of 25: 68.98263027295285%\n",
      "Bar coupon acceptance rate among all other drivers: 33.77483443708609%\n"
     ]
    }
   ],
   "source": [
    " # Treating \"1 to 3 times a month\" as \"more than once a month\"\n",
    "\n",
    "indicates_ageover25 = ['46', '26', '31', '41', '50plus', '36']\n",
    "indicates_moreonce = ['1~3', 'gt8', '4~8']\n",
    "\n",
    "# In this jupyter cell, \"condition\" means \"bar more than once a month & age over 25\"\n",
    "\n",
    "num_condition = len( data_justbar[ (data_justbar['Bar'].isin(indicates_moreonce)) \\\n",
    "                                   & (data_justbar['age'].isin(indicates_ageover25)) ] )\n",
    "num_condition_accept = len( data_justbar[ (data_justbar['Bar'].isin(indicates_moreonce)) \\\n",
    "                                   & (data_justbar['age'].isin(indicates_ageover25)) \\\n",
    "                                   & (data_justbar['Y']==1) ] )\n",
    "num_total = len( data_justbar )\n",
    "num_not_condition = num_total - num_condition\n",
    "num_total_accept = len( data_justbar[ data_justbar['Y']==1 ] )\n",
    "num_not_condition_accept = num_total_accept - num_condition_accept\n",
    "proportion_accept_among_condition = num_condition_accept / num_condition\n",
    "proportion_accept_among_not_condition = num_not_condition_accept / num_not_condition\n",
    "print(f\"Bar coupon acceptance rate among drivers who go to a bar more than once a month and are over the age of 25: {100.*proportion_accept_among_condition}%\")\n",
    "print(f\"Bar coupon acceptance rate among all other drivers: {100.*proportion_accept_among_not_condition}%\")"
   ]
  },
  {
   "cell_type": "markdown",
   "metadata": {
    "id": "S4RKT4PJ_qRK"
   },
   "source": [
    "5. Use the same process to compare the acceptance rate between drivers who go to bars more than once a month and had passengers that were not a kid and had occupations other than farming, fishing, or forestry.\n"
   ]
  },
  {
   "cell_type": "code",
   "execution_count": 13,
   "metadata": {
    "id": "sENaI2Tg_qRK"
   },
   "outputs": [
    {
     "name": "stdout",
     "output_type": "stream",
     "text": [
      "Bar coupon acceptance rate among drivers who go to bars more than once a month and had passengers that were not a kid and had occupations other than farming, fishing, or forestry: 71.42857142857143%\n",
      "Bar coupon acceptance rate among all other drivers: 37.87703016241299%\n"
     ]
    }
   ],
   "source": [
    "# In this jupyter cell, \"condition\" means \"bar more than once a month & had a passenger that was not a kid & occupation other than farming, fishing, forestry\"\n",
    "\n",
    "indicates_moreonce = ['1~3', 'gt8', '4~8']\n",
    "condition_mask = ( data_justbar['occupation']!='Farming Fishing & Forestry' ) & \\\n",
    "                    ( data_justbar['Bar'].isin(indicates_moreonce) ) & \\\n",
    "                    ( ~ data_justbar['passenger'].isin(['Kid(s)','Alone']) )\n",
    "\n",
    "num_condition = len( data_justbar[ condition_mask ] )\n",
    "num_condition_accept = len( data_justbar[ condition_mask  & (data_justbar['Y']==1) ] )\n",
    "\n",
    "num_total = len( data_justbar )\n",
    "num_not_condition = num_total - num_condition\n",
    "num_total_accept = len( data_justbar[ data_justbar['Y']==1 ] )\n",
    "num_not_condition_accept = num_total_accept - num_condition_accept\n",
    "\n",
    "proportion_accept_among_condition = num_condition_accept / num_condition\n",
    "proportion_accept_among_not_condition = num_not_condition_accept / num_not_condition\n",
    "print(f\"Bar coupon acceptance rate among drivers who go to bars more than once a month and had passengers that were not a kid and had occupations other than farming, fishing, or forestry: {100.*proportion_accept_among_condition}%\")\n",
    "print(f\"Bar coupon acceptance rate among all other drivers: {100.*proportion_accept_among_not_condition}%\")"
   ]
  },
  {
   "cell_type": "markdown",
   "metadata": {
    "id": "n2LIUTil_qRK"
   },
   "source": [
    "6. Compare the acceptance rates between those drivers who:\n",
    "\n",
    "- go to bars more than once a month, had passengers that were not a kid, and were not widowed *OR*\n",
    "- go to bars more than once a month and are under the age of 30 *OR*\n",
    "- go to cheap restaurants more than 4 times a month and income is less than 50K.\n",
    "\n"
   ]
  },
  {
   "cell_type": "code",
   "execution_count": 14,
   "metadata": {
    "id": "aK_wEzx7_qRK"
   },
   "outputs": [
    {
     "name": "stdout",
     "output_type": "stream",
     "text": [
      "Bar coupon acceptance rate among drivers who:\n",
      "\tgo to bars more than once a month, had passengers that were not a kid, and were not widowed: 67.1018276762402%\n",
      "\tgo to bars more than once a month and are under the age of 30: 71.95121951219512%\n",
      "\tgo to cheap restaurants more than 4 times a month and income is less than 50K: 45.645645645645644%\n"
     ]
    }
   ],
   "source": [
    "accept_mask = ( data_justbar['Y']==1 )\n",
    "\n",
    "cond_mask = []\n",
    "\n",
    "# Condition 0: go to bars more than once a month, had passengers that were not a kid, and were not widowed\n",
    "# Condition 1: go to bars more than once a month and are under the age of 30\n",
    "# Condition 2: go to cheap restaurants more than 4 times a month and income is less than 50K\n",
    "\n",
    "cond_mask.append( ( data_justbar['Bar'].isin(['1~3', 'gt8', '4~8']) ) & \\\n",
    "                    ( data_justbar['passenger'].isin(['Kid(s)','Alone']) ) & \\\n",
    "                    ( data_justbar['maritalStatus']!='Widowed' )  )\n",
    "cond_mask.append( ( data_justbar['Bar'].isin(['1~3', 'gt8', '4~8']) ) & \\\n",
    "                 ( data_justbar['age'].isin(['21', '26', 'below21']) ) )\n",
    "cond_mask.append( ( data_justbar['RestaurantLessThan20'].isin(['4~8', 'gt8']) ) & \\\n",
    "                ( data_justbar['income'].isin(['$37500 - $49999', '$12500 - $24999', '$25000 - $37499', 'Less than $12500']) ) )\n",
    "\n",
    "num_cond = []\n",
    "num_cond_accept = []\n",
    "proportion_accept_amongcond = []\n",
    "\n",
    "for i in range(3):\n",
    "    num_cond.append( len( data_justbar[ cond_mask[i] ] ) )\n",
    "    num_cond_accept.append( len( data_justbar[ cond_mask[i] & accept_mask ] ) )\n",
    "    proportion_accept_amongcond.append( num_cond_accept[i] / num_cond[i] )\n",
    "\n",
    "print(\"Bar coupon acceptance rate among drivers who:\")\n",
    "print(f\"\\tgo to bars more than once a month, had passengers that were not a kid, and were not widowed: {100.*proportion_accept_amongcond[0]}%\")\n",
    "print(f\"\\tgo to bars more than once a month and are under the age of 30: {100.*proportion_accept_amongcond[1]}%\")\n",
    "print(f\"\\tgo to cheap restaurants more than 4 times a month and income is less than 50K: {100.*proportion_accept_amongcond[2]}%\")"
   ]
  },
  {
   "cell_type": "markdown",
   "metadata": {
    "id": "v3fL3QkO_qRK"
   },
   "source": [
    "7.  Based on these observations, what do you hypothesize about drivers who accepted the bar coupons?"
   ]
  },
  {
   "cell_type": "code",
   "execution_count": 15,
   "metadata": {
    "id": "Y48naDFh_qRL"
   },
   "outputs": [
    {
     "name": "stdout",
     "output_type": "stream",
     "text": [
      "\n",
      "Drivers who go to bars more often seem more likely to accept the coupon. Also, accepting the coupon seems more likely among drivers in their 20s. The data suggests this because drivers who go to bars more than once a month and are over 25, had a lower acceptance rate than drivers who go to bars more than once a month but are under 30.\n",
      "\n"
     ]
    }
   ],
   "source": [
    "print('''\n",
    "Drivers who go to bars more often seem more likely to accept the coupon. \\\n",
    "Also, accepting the coupon seems more likely among drivers in their 20s. \\\n",
    "The data suggests this because drivers who go to bars more than once a month and are over 25, \\\n",
    "had a lower acceptance rate than drivers who go to bars more than once a month but are under 30.\n",
    "''')"
   ]
  },
  {
   "cell_type": "markdown",
   "metadata": {
    "id": "r4Hu1zOb_qRL"
   },
   "source": [
    "### Independent Investigation\n",
    "\n",
    "Using the bar coupon example as motivation, you are to explore one of the other coupon groups and try to determine the characteristics of passengers who accept the coupons.  "
   ]
  },
  {
   "cell_type": "code",
   "execution_count": 16,
   "metadata": {
    "id": "0c71cQhu_qRL"
   },
   "outputs": [],
   "source": [
    "# We will investigate the Restaurant(<20) coupon group. \n",
    "\n",
    "data_R20 = data[ data['coupon'] == 'Restaurant(<20)' ]"
   ]
  },
  {
   "cell_type": "code",
   "execution_count": 17,
   "metadata": {
    "id": "QEsBkvIN_qRL"
   },
   "outputs": [
    {
     "data": {
      "image/png": "[encoded data removed]",
      "text/plain": [
       "<Figure size 640x480 with 1 Axes>"
      ]
     },
     "metadata": {},
     "output_type": "display_data"
    },
    {
     "name": "stdout",
     "output_type": "stream",
     "text": [
      "\n",
      "From the output, we see people are not as likely to accept the coupon at early morning (7AM) and late night (10PM),\n",
      "and are reasonably likely to accept the coupon at less-early morning (10AM),\n",
      "but are very likely to accept the coupon in the afternoon and evening (2PM, 6PM).\n",
      "\n",
      "Hence we suggest focusing on a time range such as 1PM-7PM to maximize coupon acceptance.\n",
      "\n"
     ]
    }
   ],
   "source": [
    "# Here we check at which times are people more likely to accept a restaurant(<20) coupon.\n",
    "\n",
    "cat_to_check = 'time'\n",
    "data_R20_bycat = pd.concat( [ data_R20.groupby(cat_to_check).size().rename('NumTotal') , \\\n",
    "                              data_R20[ data_R20['Y']==1 ].groupby(cat_to_check).size().rename('NumY') ] , axis=1 )\n",
    "data_R20_bycat['PercentY'] = 100.*data_R20_bycat['NumY'] / data_R20_bycat['NumTotal']\n",
    "\n",
    "# rearrange time index to increasing order\n",
    "time_order = ['7AM','10AM','2PM','6PM','10PM']\n",
    "data_R20_bycat = data_R20_bycat.reindex(time_order)\n",
    "\n",
    "# Get bar plot\n",
    "R20_barplot = sns.barplot(x=cat_to_check, y='PercentY', data=data_R20_bycat)\n",
    "plt.title('Acceptance rate of restaurant(<20) coupons at different times of day')\n",
    "R20_barplot.set_xlabel('Time of day')\n",
    "R20_barplot.set_ylabel('Acceptance rate')\n",
    "plt.savefig('Plots/Restaurant(<20)CouponAcceptanceRateByTimeOfDay.png')\n",
    "plt.show()\n",
    "\n",
    "print('''\n",
    "From the output, we see people are not as likely to accept the coupon at early morning (7AM) and late night (10PM),\n",
    "and are reasonably likely to accept the coupon at less-early morning (10AM),\n",
    "but are very likely to accept the coupon in the afternoon and evening (2PM, 6PM).\n",
    "\n",
    "Hence we suggest focusing on a time range such as 1PM-7PM to maximize coupon acceptance.\n",
    "''')"
   ]
  },
  {
   "cell_type": "code",
   "execution_count": 18,
   "metadata": {
    "id": "fTC2WGE3_qRL"
   },
   "outputs": [
    {
     "data": {
      "image/png": "[encoded data removed]",
      "text/plain": [
       "<Figure size 640x480 with 1 Axes>"
      ]
     },
     "metadata": {},
     "output_type": "display_data"
    },
    {
     "name": "stdout",
     "output_type": "stream",
     "text": [
      "\n",
      "From the output, we see that there is not a lot of variance (only up to ~ 11 percentage points), but drivers age 25 and under seem most consistent in being more likely to accept the coupon.\n",
      "\n",
      "Hence, a possible strategy would be to target the under 25 age group.\n",
      "\n"
     ]
    }
   ],
   "source": [
    "# Here we check acceptance rates of a restaurant(<20) coupon among different driver ages.\n",
    "\n",
    "cat_to_check = 'age'\n",
    "data_R20_bycat = pd.concat( [ data_R20.groupby(cat_to_check).size().rename('NumTotal') , \\\n",
    "                              data_R20[ data_R20['Y']==1 ].groupby(cat_to_check).size().rename('NumY') ] , axis=1 )\n",
    "data_R20_bycat['PercentY'] = 100.*data_R20_bycat['NumY'] / data_R20_bycat['NumTotal']\n",
    "\n",
    "# rearrange age index to increasing order. Only \"below 21\" needs to be moved\n",
    "age_index_order = data_R20_bycat.index.tolist()\n",
    "age_index_order.remove('below21')\n",
    "age_index_order.insert(0, 'below21')\n",
    "data_R20_bycat = data_R20_bycat.reindex(age_index_order)\n",
    "\n",
    "# Get bar plot\n",
    "R20_barplot = sns.barplot(y=cat_to_check, x='PercentY', data=data_R20_bycat)\n",
    "plt.title('Acceptance rate of restaurant(<20) coupons by age group')\n",
    "R20_barplot.set_xlabel('Acceptance rate')\n",
    "R20_barplot.set_ylabel('Age group')\n",
    "plt.savefig('Plots/Restaurant(<20)CouponAcceptanceRateByAgeGroup.png')\n",
    "plt.show()\n",
    "\n",
    "print('''\n",
    "From the output, we see that there is not a lot of variance (only up to ~ 11 percentage points), but drivers age 25 and under seem most consistent in being more likely to accept the coupon.\n",
    "\n",
    "Hence, a possible strategy would be to target the under 25 age group.\n",
    "''')"
   ]
  },
  {
   "cell_type": "code",
   "execution_count": 19,
   "metadata": {
    "id": "RrqUWn7d_qRL"
   },
   "outputs": [
    {
     "data": {
      "image/png": "[encoded data removed]",
      "text/plain": [
       "<Figure size 640x480 with 1 Axes>"
      ]
     },
     "metadata": {},
     "output_type": "display_data"
    },
    {
     "name": "stdout",
     "output_type": "stream",
     "text": [
      "\n",
      "From the output, we see the driver is more likely to accept the coupon when they are not alone, and even more likely to accept when the other passengers are not kids.\n",
      "\n",
      "Hence, we suggest targeting drivers who are not alone, and especially drivers with other adult passengers.\n",
      "\n"
     ]
    }
   ],
   "source": [
    "# Here we check acceptance rates of a restaurant(<20) coupon for different types of passengers.\n",
    "\n",
    "cat_to_check = 'passenger'\n",
    "data_R20_bycat = pd.concat( [ data_R20.groupby(cat_to_check).size().rename('NumTotal') , \\\n",
    "                              data_R20[ data_R20['Y']==1 ].groupby(cat_to_check).size().rename('NumY') ] , axis=1 )\n",
    "data_R20_bycat['PercentY'] = 100.*data_R20_bycat['NumY'] / data_R20_bycat['NumTotal']\n",
    "\n",
    "# Get bar plot\n",
    "R20_barplot = sns.barplot(y=cat_to_check, x='PercentY', data=data_R20_bycat)\n",
    "plt.title('Acceptance rate of restaurant(<20) coupons by type of passenger')\n",
    "R20_barplot.set_xlabel('Acceptance rate')\n",
    "R20_barplot.set_ylabel('Passenger type')\n",
    "plt.savefig('Plots/Restaurant(<20)CouponAcceptanceRateByPassenger.png')\n",
    "plt.show()\n",
    "\n",
    "print('''\n",
    "From the output, we see the driver is more likely to accept the coupon when they are not alone, and even more likely to accept when the other passengers are not kids.\n",
    "\n",
    "Hence, we suggest targeting drivers who are not alone, and especially drivers with other adult passengers.\n",
    "''')\n"
   ]
  },
  {
   "cell_type": "code",
   "execution_count": 20,
   "metadata": {
    "id": "_oykf8YP_qRL"
   },
   "outputs": [
    {
     "data": {
      "image/png": "[encoded data removed]",
      "text/plain": [
       "<Figure size 640x480 with 1 Axes>"
      ]
     },
     "metadata": {},
     "output_type": "display_data"
    },
    {
     "name": "stdout",
     "output_type": "stream",
     "text": [
      "\n",
      "From the output, we see that there is a clear increase (by nearly 25 percentage points) in acceptance rates when the expiry is 1 day instead of 2 hours.\n",
      "\n",
      "Based on this, we suggest using coupons with the an expiry time of 1 day instead of 2 hours.\n",
      "\n"
     ]
    }
   ],
   "source": [
    "# Here we check acceptance rates of a restaurant(<20) coupon for different expiry times.\n",
    "\n",
    "cat_to_check = 'expiration'\n",
    "data_R20_bycat = pd.concat( [ data_R20.groupby(cat_to_check).size().rename('NumTotal') , \\\n",
    "                              data_R20[ data_R20['Y']==1 ].groupby(cat_to_check).size().rename('NumY') ] , axis=1 )\n",
    "data_R20_bycat['PercentY'] = 100.*data_R20_bycat['NumY'] / data_R20_bycat['NumTotal']\n",
    "\n",
    "# Get bar plot\n",
    "R20_barplot = sns.barplot(x=cat_to_check, y='PercentY', data=data_R20_bycat)\n",
    "plt.title('Acceptance rate of restaurant(<20) coupons by expiry time')\n",
    "R20_barplot.set_ylabel('Acceptance rate')\n",
    "R20_barplot.set_xlabel('Expiry time of coupon')\n",
    "plt.savefig('Plots/Restaurant(<20)CouponAcceptanceRateByExpiry.png')\n",
    "plt.show()\n",
    "\n",
    "print('''\n",
    "From the output, we see that there is a clear increase (by nearly 25 percentage points) in acceptance rates when the expiry is 1 day instead of 2 hours.\n",
    "\n",
    "Based on this, we suggest using coupons with the an expiry time of 1 day instead of 2 hours.\n",
    "''')"
   ]
  },
  {
   "cell_type": "code",
   "execution_count": null,
   "metadata": {},
   "outputs": [],
   "source": []
  }
 ],
 "metadata": {
  "colab": {
   "provenance": []
  },
  "kernelspec": {
   "display_name": "Python 3 (ipykernel)",
   "language": "python",
   "name": "python3"
  },
  "language_info": {
   "codemirror_mode": {
    "name": "ipython",
    "version": 3
   },
   "file_extension": ".py",
   "mimetype": "text/x-python",
   "name": "python",
   "nbconvert_exporter": "python",
   "pygments_lexer": "ipython3",
   "version": "3.11.13"
  }
 },
 "nbformat": 4,
 "nbformat_minor": 4
}
